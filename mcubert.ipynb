{
 "cells": [
  {
   "cell_type": "markdown",
   "id": "e649ef954e038bd7",
   "metadata": {},
   "source": [
    "# CS 439 Final Project\n",
    "## Finetuning DistillBert on Microcontroller Unit (MCU) Datasheets\n",
    "Group Members: Shivam Patel (smp440), Tyler Abassi (?)\n",
    "\n",
    "*NOTE:* Work was done on a VM equipped with a 24-core CPU and 2 L40s Nvidia GPUs. Even then, some steps, such as document OCR and model training took significant time (2 hours and 30 minutes respectively). Therefore, already processed files have been provided alongside the original code. Take note of comments and skip computationally intense cells to either load checkpoints from disk or calculate results from scratch. "
   ]
  },
  {
   "cell_type": "code",
   "execution_count": 1,
   "id": "55077a3d",
   "metadata": {},
   "outputs": [],
   "source": [
    "import os\n",
    "import sys\n",
    "import json\n",
    "import csv\n",
    "import math\n",
    "import time\n",
    "import requests\n",
    "import torch\n",
    "import umap\n",
    "import numpy as np\n",
    "from dotenv import load_dotenv\n",
    "from sklearn.metrics.pairwise import cosine_similarity\n",
    "from docling.document_converter import DocumentConverter\n",
    "from docling.chunking import HybridChunker\n",
    "from datasets import (\n",
    "    Dataset,\n",
    "    load_from_disk\n",
    "    ) \n",
    "from transformers import (\n",
    "    DistilBertTokenizerFast,\n",
    "    DistilBertModel,\n",
    "    DataCollatorForLanguageModeling,\n",
    "    DistilBertTokenizerFast,\n",
    "    DistilBertForMaskedLM,\n",
    "    DataCollatorForLanguageModeling,\n",
    "    TrainingArguments,\n",
    "    Trainer\n",
    ")\n",
    "import seaborn as sns\n",
    "import matplotlib.pyplot as plt"
   ]
  },
  {
   "cell_type": "code",
   "execution_count": 2,
   "id": "1218b9fe",
   "metadata": {},
   "outputs": [],
   "source": [
    "%matplotlib inline\n",
    "load_dotenv()\n",
    "MODEL_NAME = \"distilbert-base-uncased\"\n",
    "OUTPUT_MODEL_DIR = \"distilbert_embedbert\"\n",
    "CHUNKED_DOC_DIR = \"chunked_datasheets\"\n",
    "FINETUNE_DATASET_DIR = \"finetune_ready_dataset\"  "
   ]
  },
  {
   "cell_type": "markdown",
   "id": "f7153122",
   "metadata": {},
   "source": [
    "## 1: Collecting Files"
   ]
  },
  {
   "cell_type": "code",
   "execution_count": 4,
   "id": "62fedb95",
   "metadata": {},
   "outputs": [],
   "source": [
    "MOUSER_API_KEY = os.getenv(\"MOUSER_API_KEY\")\n",
    "MOUSER_API_ENDPOINT = \"https://api.mouser.com/api/v1/search/partnumber\"\n",
    "\n",
    "# List of part number prefixes (wildcard support for various microcontrollers)\n",
    "mcu_prefixes = [\"PIC18*\", \"STM32*\", \"ATMEGA*\", \"ESP32*\", \"RP2040*\", \"LPC*\", \"PIC32*\", \"MSP430*\", \"CY8C4*\"]"
   ]
  },
  {
   "cell_type": "code",
   "execution_count": 5,
   "id": "bb98bcad",
   "metadata": {},
   "outputs": [],
   "source": [
    "def query_mouser_parts(part_patterns):\n",
    "    collected_parts = []\n",
    "    headers = {\"Content-Type\": \"application/json\"}\n",
    "\n",
    "    for pattern in part_patterns:\n",
    "        print(f\"Querying part: {pattern}\")\n",
    "        page = 1\n",
    "        has_more = True\n",
    "\n",
    "        while has_more:\n",
    "            query_payload = {\n",
    "                \"SearchByPartRequest\": {\n",
    "                    \"mouserPartNumber\": pattern,\n",
    "                    \"partSearchOptions\": \"startsWith\",\n",
    "                    \"recordsCount\": 100,\n",
    "                    \"startingRecord\": (page - 1) * 100\n",
    "                }\n",
    "            }\n",
    "\n",
    "            response = requests.post(\n",
    "                f\"{MOUSER_API_ENDPOINT}?apiKey={MOUSER_API_KEY}\",\n",
    "                json=query_payload,\n",
    "                headers=headers,\n",
    "            )\n",
    "\n",
    "            print(f\"Response: {response.status_code}\")\n",
    "            if response.status_code != 200:\n",
    "                print(f\" API Error for {pattern}\")\n",
    "                break\n",
    "\n",
    "            data = response.json()\n",
    "            parts = data.get(\"SearchResults\", {}).get(\"Parts\", [])\n",
    "            if not parts:\n",
    "                print(f\" No parts returned for {pattern}\")\n",
    "                break\n",
    "\n",
    "            for part in parts:\n",
    "                part_num = part.get(\"MouserPartNumber\", \"N/A\")\n",
    "                maker = part.get(\"Manufacturer\", \"Unknown\")\n",
    "                desc = part.get(\"Description\", \"No Description\")\n",
    "                datasheet = part.get(\"DataSheetUrl\", \"\")\n",
    "                inventory = part.get(\"Availability\", \"Unknown\")\n",
    "                pricing = part.get(\"PriceBreaks\", [])\n",
    "                unit_price = pricing[0][\"Price\"] if pricing else \"N/A\"\n",
    "\n",
    "                if part_num == \"N/A\" or maker == \"Unknown\":\n",
    "                    continue\n",
    "\n",
    "                collected_parts.append({\n",
    "                    \"Part Number\": part_num,\n",
    "                    \"Manufacturer\": maker,\n",
    "                    \"Description\": desc,\n",
    "                    \"Datasheet\": datasheet,\n",
    "                    \"Price\": unit_price,\n",
    "                    \"Stock\": inventory,\n",
    "                })\n",
    "\n",
    "            print(f\"Fetched {len(parts)} parts on page {page}\")\n",
    "            has_more = len(parts) == 100\n",
    "            page += 1\n",
    "            time.sleep(1)\n",
    "\n",
    "    return collected_parts\n",
    "\n",
    "def export_parts_to_csv(parts_data, output_file=\"microcontrollers_data.csv\"):\n",
    "    with open(output_file, \"w\", newline=\"\", encoding=\"utf-8\") as csvfile:\n",
    "        writer = csv.DictWriter(csvfile, fieldnames=parts_data[0].keys())\n",
    "        writer.writeheader()\n",
    "        writer.writerows(parts_data)\n",
    "    print(f\"Data exported to {output_file}\")"
   ]
  },
  {
   "cell_type": "code",
   "execution_count": 6,
   "id": "39424c22",
   "metadata": {},
   "outputs": [
    {
     "name": "stdout",
     "output_type": "stream",
     "text": [
      "Querying part: PIC18*\n",
      "Response: 200\n",
      "Fetched 50 parts on page 1\n",
      "Querying part: STM32*\n",
      "Response: 200\n",
      "Fetched 50 parts on page 1\n",
      "Querying part: ATMEGA*\n",
      "Response: 200\n",
      "Fetched 50 parts on page 1\n",
      "Querying part: ESP32*\n",
      "Response: 200\n",
      "Fetched 50 parts on page 1\n",
      "Querying part: RP2040*\n",
      "Response: 403\n",
      " API Error for RP2040*\n",
      "Querying part: LPC*\n",
      "Response: 403\n",
      " API Error for LPC*\n",
      "Querying part: PIC32*\n",
      "Response: 403\n",
      " API Error for PIC32*\n",
      "Querying part: MSP430*\n",
      "Response: 403\n",
      " API Error for MSP430*\n",
      "Querying part: CY8C4*\n",
      "Response: 403\n",
      " API Error for CY8C4*\n",
      "Data exported to microcontrollers_data.csv\n"
     ]
    }
   ],
   "source": [
    "mcu_data = query_mouser_parts(mcu_prefixes)\n",
    "export_parts_to_csv(mcu_data)"
   ]
  },
  {
   "cell_type": "code",
   "execution_count": 8,
   "id": "a6a8c17f",
   "metadata": {},
   "outputs": [],
   "source": [
    "os.makedirs(\"pdf_datasheets\", exist_ok=True)"
   ]
  },
  {
   "cell_type": "code",
   "execution_count": 7,
   "id": "1bc5fbc4",
   "metadata": {},
   "outputs": [],
   "source": [
    "def fetch_datasheet_link(mouser_part):\n",
    "    headers = {\"Content-Type\": \"application/json\"}\n",
    "    request_payload = {\n",
    "        \"SearchByPartRequest\": {\n",
    "            \"mouserPartNumber\": mouser_part,\n",
    "            \"partSearchOptions\": \"exact\"\n",
    "        }\n",
    "    }\n",
    "\n",
    "    try:\n",
    "        response = requests.post(\n",
    "            f\"{MOUSER_API_ENDPOINT}?apiKey={MOUSER_API_KEY}\",\n",
    "            json=request_payload,\n",
    "            headers=headers,\n",
    "            timeout=10\n",
    "        )\n",
    "        response.raise_for_status()\n",
    "        parts_info = response.json().get(\"SearchResults\", {}).get(\"Parts\", [])\n",
    "        for part in parts_info:\n",
    "            url = part.get(\"DataSheetUrl\")\n",
    "            if url and url.startswith(\"http\"):\n",
    "                return url\n",
    "    except requests.RequestException as error:\n",
    "        print(f\" Datasheet fetch failed: {error}\")\n",
    "    return None"
   ]
  },
  {
   "cell_type": "code",
   "execution_count": 9,
   "id": "bd3d6a4f",
   "metadata": {},
   "outputs": [],
   "source": [
    "def download_datasheet_pdf(url, part_id):\n",
    "    if not url:\n",
    "        print(f\"No URL for {part_id}\")\n",
    "        return\n",
    "\n",
    "    try:\n",
    "        print(f\"Downloading PDF for {part_id}\")\n",
    "        headers = {\n",
    "            \"User-Agent\": \"Mozilla/5.0 (Windows NT 10.0; Win64; x64)\",\n",
    "            \"Referer\": \"https://www.mouser.com/\",  # <-- Important\n",
    "            \"Accept\": \"application/pdf\",\n",
    "            \"Accept-Language\": \"en-US,en;q=0.9\",\n",
    "            \"Connection\": \"keep-alive\",\n",
    "        }\n",
    "        response = requests.get(url, headers=headers, timeout=15)\n",
    "        response.raise_for_status()\n",
    "\n",
    "        # filename = f\"pdf_datasheets/{part_id}.pdf\"\n",
    "        filename = os.path.join(\"pdf_datasheets\", f\"{part_id.replace('/', '_')}.pdf\")\n",
    "        with open(filename, \"wb\") as file:\n",
    "            file.write(response.content)\n",
    "        print(f\"Saved: {filename}\")\n",
    "\n",
    "    except requests.RequestException as err:\n",
    "        print(f\"Download failed for {url}: {err}\")"
   ]
  },
  {
   "cell_type": "code",
   "execution_count": 10,
   "id": "b333bedb",
   "metadata": {},
   "outputs": [
    {
     "name": "stdout",
     "output_type": "stream",
     "text": [
      "Downloading PDF for 579-PIC18F25K20TEML\n",
      "Saved: pdf_datasheets/579-PIC18F25K20TEML.pdf\n",
      "Downloading PDF for 579-PIC18F47Q43-I/P\n",
      "Saved: pdf_datasheets/579-PIC18F47Q43-I_P.pdf\n",
      "Downloading PDF for 579-PIC18F46J50T-IPT\n",
      "Saved: pdf_datasheets/579-PIC18F46J50T-IPT.pdf\n",
      "Downloading PDF for 579-PIC18LF2525-I/SO\n",
      "Saved: pdf_datasheets/579-PIC18LF2525-I_SO.pdf\n",
      "Downloading PDF for 579-PIC18F2320-I/SP\n",
      "Saved: pdf_datasheets/579-PIC18F2320-I_SP.pdf\n",
      "Downloading PDF for 579-PIC18F47J53-I/PT\n",
      "Saved: pdf_datasheets/579-PIC18F47J53-I_PT.pdf\n",
      "Downloading PDF for 579-PIC18F45K40-I/P\n",
      "Saved: pdf_datasheets/579-PIC18F45K40-I_P.pdf\n",
      "Downloading PDF for 579-PIC18F46Q10TIPT\n",
      "Saved: pdf_datasheets/579-PIC18F46Q10TIPT.pdf\n",
      "Downloading PDF for 579-PIC18F25J50T-ISS\n",
      "Saved: pdf_datasheets/579-PIC18F25J50T-ISS.pdf\n",
      "Downloading PDF for 579-PIC18LF43K22-IMV\n",
      "Saved: pdf_datasheets/579-PIC18LF43K22-IMV.pdf\n",
      "Downloading PDF for 579-PIC18F45Q24TIMP\n",
      "Saved: pdf_datasheets/579-PIC18F45Q24TIMP.pdf\n",
      "Downloading PDF for 579-PIC18F6520-I/PT\n",
      "Saved: pdf_datasheets/579-PIC18F6520-I_PT.pdf\n",
      "Downloading PDF for 579-PIC18LF25K42E/SS\n",
      "Saved: pdf_datasheets/579-PIC18LF25K42E_SS.pdf\n",
      "Downloading PDF for 579-PIC18LF26K42-IML\n",
      "Saved: pdf_datasheets/579-PIC18LF26K42-IML.pdf\n",
      "Downloading PDF for 579-PIC18F45J10-I/ML\n",
      "Saved: pdf_datasheets/579-PIC18F45J10-I_ML.pdf\n",
      "Downloading PDF for 579-PIC18F26K40-I/ML\n",
      "Saved: pdf_datasheets/579-PIC18F26K40-I_ML.pdf\n",
      "Downloading PDF for 579-IC18LF24K42TI/SO\n",
      "Saved: pdf_datasheets/579-IC18LF24K42TI_SO.pdf\n",
      "Downloading PDF for 579-PIC18LF45K42-EMV\n",
      "Saved: pdf_datasheets/579-PIC18LF45K42-EMV.pdf\n",
      "Downloading PDF for 579-PIC18F4221-I/ML\n",
      "Saved: pdf_datasheets/579-PIC18F4221-I_ML.pdf\n",
      "Downloading PDF for 579-PIC18F2321-I/SO\n",
      "Saved: pdf_datasheets/579-PIC18F2321-I_SO.pdf\n",
      "Downloading PDF for 579-PIC18F6722-I/PT\n",
      "Saved: pdf_datasheets/579-PIC18F6722-I_PT.pdf\n",
      "Downloading PDF for 579-PIC18F26Q24ESS\n",
      "Saved: pdf_datasheets/579-PIC18F26Q24ESS.pdf\n",
      "Downloading PDF for 579-18LF2520T-I/SO\n",
      "Saved: pdf_datasheets/579-18LF2520T-I_SO.pdf\n",
      "Downloading PDF for 579-PIC18F15Q41-E/P\n",
      "Saved: pdf_datasheets/579-PIC18F15Q41-E_P.pdf\n",
      "Downloading PDF for 579-PIC18F04Q20-E/SL\n",
      "Saved: pdf_datasheets/579-PIC18F04Q20-E_SL.pdf\n",
      "Downloading PDF for 579-IC18F16Q40-E/REB\n",
      "Saved: pdf_datasheets/579-IC18F16Q40-E_REB.pdf\n",
      "Downloading PDF for 579-PC18F46Q71T-I/MP\n",
      "Saved: pdf_datasheets/579-PC18F46Q71T-I_MP.pdf\n",
      "Downloading PDF for 579-PIC18LF25K83ISO\n",
      "Saved: pdf_datasheets/579-PIC18LF25K83ISO.pdf\n",
      "Downloading PDF for 579-PIC18LF46K40E/MV\n",
      "Saved: pdf_datasheets/579-PIC18LF46K40E_MV.pdf\n",
      "Downloading PDF for 579-PIC18F24K40-I/SS\n",
      "Saved: pdf_datasheets/579-PIC18F24K40-I_SS.pdf\n",
      " Datasheet fetch failed: 403 Client Error: Forbidden for url: https://api.mouser.com/api/v1/search/partnumber?apiKey=1db98f79-80b8-44dd-8055-ea4c99dac2f0\n",
      "No URL for 579-PIC18F46K80-H/ML\n",
      " Datasheet fetch failed: 403 Client Error: Forbidden for url: https://api.mouser.com/api/v1/search/partnumber?apiKey=1db98f79-80b8-44dd-8055-ea4c99dac2f0\n",
      "No URL for 579-PIC18LF26J11-IML\n",
      " Datasheet fetch failed: 403 Client Error: Forbidden for url: https://api.mouser.com/api/v1/search/partnumber?apiKey=1db98f79-80b8-44dd-8055-ea4c99dac2f0\n",
      "No URL for 579-PIC18LF2221-I/SO\n",
      " Datasheet fetch failed: 403 Client Error: Forbidden for url: https://api.mouser.com/api/v1/search/partnumber?apiKey=1db98f79-80b8-44dd-8055-ea4c99dac2f0\n",
      "No URL for 579-PIC18LF2523-I/ML\n",
      " Datasheet fetch failed: 403 Client Error: Forbidden for url: https://api.mouser.com/api/v1/search/partnumber?apiKey=1db98f79-80b8-44dd-8055-ea4c99dac2f0\n",
      "No URL for 579-PIC18F65K80-E/PT\n",
      " Datasheet fetch failed: 403 Client Error: Forbidden for url: https://api.mouser.com/api/v1/search/partnumber?apiKey=1db98f79-80b8-44dd-8055-ea4c99dac2f0\n",
      "No URL for 579-PIC18F57Q83TIPT\n",
      " Datasheet fetch failed: 403 Client Error: Forbidden for url: https://api.mouser.com/api/v1/search/partnumber?apiKey=1db98f79-80b8-44dd-8055-ea4c99dac2f0\n",
      "No URL for 579-PIC18F05Q41TI/SL\n",
      " Datasheet fetch failed: 403 Client Error: Forbidden for url: https://api.mouser.com/api/v1/search/partnumber?apiKey=1db98f79-80b8-44dd-8055-ea4c99dac2f0\n",
      "No URL for 579-PIC18F66J90TI/PT\n",
      " Datasheet fetch failed: 403 Client Error: Forbidden for url: https://api.mouser.com/api/v1/search/partnumber?apiKey=1db98f79-80b8-44dd-8055-ea4c99dac2f0\n",
      "No URL for 579-PIC18LF24K22I/MV\n",
      " Datasheet fetch failed: 403 Client Error: Forbidden for url: https://api.mouser.com/api/v1/search/partnumber?apiKey=1db98f79-80b8-44dd-8055-ea4c99dac2f0\n",
      "No URL for 579-PIC18F45K22TI/ML\n",
      " Datasheet fetch failed: 403 Client Error: Forbidden for url: https://api.mouser.com/api/v1/search/partnumber?apiKey=1db98f79-80b8-44dd-8055-ea4c99dac2f0\n",
      "No URL for 579-PIC18F2321-E/SO\n",
      " Datasheet fetch failed: 403 Client Error: Forbidden for url: https://api.mouser.com/api/v1/search/partnumber?apiKey=1db98f79-80b8-44dd-8055-ea4c99dac2f0\n",
      "No URL for 579-PIC18F24K50-I/SS\n",
      " Datasheet fetch failed: 403 Client Error: Forbidden for url: https://api.mouser.com/api/v1/search/partnumber?apiKey=1db98f79-80b8-44dd-8055-ea4c99dac2f0\n",
      "No URL for 579-PIC18LF25K83TIML\n",
      " Datasheet fetch failed: 403 Client Error: Forbidden for url: https://api.mouser.com/api/v1/search/partnumber?apiKey=1db98f79-80b8-44dd-8055-ea4c99dac2f0\n",
      "No URL for 579-PIC18F66J65-I/PT\n",
      " Datasheet fetch failed: 403 Client Error: Forbidden for url: https://api.mouser.com/api/v1/search/partnumber?apiKey=1db98f79-80b8-44dd-8055-ea4c99dac2f0\n",
      "No URL for 579-PIC18F87K90IPTRS\n",
      " Datasheet fetch failed: 403 Client Error: Forbidden for url: https://api.mouser.com/api/v1/search/partnumber?apiKey=1db98f79-80b8-44dd-8055-ea4c99dac2f0\n",
      "No URL for 579-PIC18F46Q84E/NHX\n",
      " Datasheet fetch failed: 403 Client Error: Forbidden for url: https://api.mouser.com/api/v1/search/partnumber?apiKey=1db98f79-80b8-44dd-8055-ea4c99dac2f0\n",
      "No URL for 579-PIC18F2331-E/SO\n",
      " Datasheet fetch failed: 403 Client Error: Forbidden for url: https://api.mouser.com/api/v1/search/partnumber?apiKey=1db98f79-80b8-44dd-8055-ea4c99dac2f0\n",
      "No URL for 579-PIC18F8620-I/PT\n",
      " Datasheet fetch failed: 403 Client Error: Forbidden for url: https://api.mouser.com/api/v1/search/partnumber?apiKey=1db98f79-80b8-44dd-8055-ea4c99dac2f0\n",
      "No URL for 579-PIC18F26K42-E/SO\n",
      " Datasheet fetch failed: 403 Client Error: Forbidden for url: https://api.mouser.com/api/v1/search/partnumber?apiKey=1db98f79-80b8-44dd-8055-ea4c99dac2f0\n",
      "No URL for 579-PIC18LF26K42-E/M\n"
     ]
    }
   ],
   "source": [
    "max_files = 50\n",
    "with open(\"microcontrollers_data.csv\", newline=\"\", encoding=\"utf-8\") as infile:\n",
    "    reader = csv.DictReader(infile)\n",
    "    for idx, row in enumerate(reader):\n",
    "        if idx >= max_files:\n",
    "            break\n",
    "        part_id = row[\"Part Number\"]\n",
    "        datasheet_url = fetch_datasheet_link(part_id)\n",
    "        download_datasheet_pdf(datasheet_url, part_id)"
   ]
  },
  {
   "cell_type": "markdown",
   "id": "51c9afe2",
   "metadata": {},
   "source": [
    "## 2: PDF-to-Text\n",
    "First, we need to use [docling](https://github.com/docling-project/docling) to extract text from the pdfs."
   ]
  },
  {
   "cell_type": "code",
   "execution_count": null,
   "id": "0b0c736a",
   "metadata": {},
   "outputs": [],
   "source": [
    "docling_input_directory = \"./datasheets\"\n",
    "\n",
    "# change this if actually running the docling code yourself, but it is VERY slow!\n",
    "docling_output_directory = \"./chunked_datasheets\" \n",
    "\n",
    "converter = DocumentConverter()\n",
    "chunker = HybridChunker(\n",
    "    tokenizer=MODEL_NAME, \n",
    "    max_tokens=256 # generall 100-300 tokens is a good range, 256 has good memory alignment\n",
    ")\n",
    "\n",
    "print('Beginning conversion of files using docling...')\n",
    "for root, dirs, files in os.walk(docling_input_directory):\n",
    "    for name in files:\n",
    "        if not name.endswith(\".pdf\"):\n",
    "            print(f'Skipping {name}, is not a pdf!')\n",
    "            continue\n",
    "        conv_res = converter.convert(os.path.join(root, name)) # This may raise length related warnings. They are lies\n",
    "        chunks = list(chunker.chunk(conv_res.document))\n",
    "        chunked_texts = [chunker.contextualize(chunk=chunk) for chunk in chunks]\n",
    "        with open(os.path.join(docling_output_directory, os.path.splitext(name)[0]) + '.json', 'wb') as output_file:\n",
    "            output_file.write(json.dumps(chunked_texts, indent=4).encode('utf-8'))"
   ]
  },
  {
   "cell_type": "markdown",
   "id": "9c08185c",
   "metadata": {},
   "source": [
    "Count the total number of text segments put out by the chunker"
   ]
  },
  {
   "cell_type": "code",
   "execution_count": 11,
   "id": "c09b7145",
   "metadata": {},
   "outputs": [
    {
     "name": "stdout",
     "output_type": "stream",
     "text": [
      "Found 177203 paragraphs in chunked_datasheets.\n"
     ]
    }
   ],
   "source": [
    "count = 0\n",
    "for filename in sorted(os.listdir(CHUNKED_DOC_DIR)):\n",
    "    if filename.endswith(\".json\"):\n",
    "        filepath = os.path.join(CHUNKED_DOC_DIR, filename)\n",
    "        with open(filepath, \"r\", encoding=\"utf-8\") as f:\n",
    "            data = json.load(f)\n",
    "            if isinstance(data, list):\n",
    "                count += len(data)\n",
    "\n",
    "print(f\"Found {count} paragraphs in {CHUNKED_DOC_DIR}.\")"
   ]
  },
  {
   "cell_type": "markdown",
   "id": "526df22c",
   "metadata": {},
   "source": [
    "## 3: Tokenizing and Masking Text\n",
    "\n",
    "First we validate and load data from disk."
   ]
  },
  {
   "cell_type": "code",
   "execution_count": 12,
   "id": "fca51c70",
   "metadata": {},
   "outputs": [
    {
     "name": "stdout",
     "output_type": "stream",
     "text": [
      "Loaded 177203 paragraphs from chunked_datasheets.\n"
     ]
    }
   ],
   "source": [
    "MAX_LENGTH = 512\n",
    "MLM_PROB = 0.15\n",
    "\n",
    "all_texts = []\n",
    "\n",
    "for filename in sorted(os.listdir(CHUNKED_DOC_DIR)):\n",
    "    if filename.endswith(\".json\"):\n",
    "        filepath = os.path.join(CHUNKED_DOC_DIR, filename)\n",
    "        with open(filepath, \"r\", encoding=\"utf-8\") as f:\n",
    "            data = json.load(f)\n",
    "            if isinstance(data, list):  # Already a list of strings\n",
    "                for paragraph in data:\n",
    "                    if paragraph.strip():\n",
    "                        all_texts.append(paragraph.strip())\n",
    "            else:\n",
    "                print(f\"Warning: Skipping unrecognized format in {filename}\")\n",
    "\n",
    "# Should match the count above\n",
    "print(f\"Loaded {len(all_texts)} paragraphs from {CHUNKED_DOC_DIR}.\")"
   ]
  },
  {
   "cell_type": "markdown",
   "id": "ab92f0ca",
   "metadata": {},
   "source": [
    "Now, we tokenize."
   ]
  },
  {
   "cell_type": "code",
   "execution_count": 13,
   "id": "6812747d",
   "metadata": {},
   "outputs": [],
   "source": [
    "tokenizer = DistilBertTokenizerFast.from_pretrained(MODEL_NAME)\n",
    "tokenized = tokenizer(\n",
    "    all_texts,\n",
    "    padding=\"max_length\",\n",
    "    truncation=True,\n",
    "    max_length=MAX_LENGTH,\n",
    "    return_tensors=\"pt\"\n",
    ")"
   ]
  },
  {
   "cell_type": "markdown",
   "id": "6d212db6",
   "metadata": {},
   "source": [
    "Now, we mask the relevant tokens."
   ]
  },
  {
   "cell_type": "code",
   "execution_count": 14,
   "id": "e6bdb931",
   "metadata": {},
   "outputs": [],
   "source": [
    "data_collator = DataCollatorForLanguageModeling(\n",
    "    tokenizer=tokenizer,\n",
    "    mlm=True,\n",
    "    mlm_probability=MLM_PROB\n",
    ")\n",
    "masked_batch = data_collator([{\n",
    "    \"input_ids\": ids,\n",
    "    \"attention_mask\": mask\n",
    "} for ids, mask in zip(tokenized[\"input_ids\"], tokenized[\"attention_mask\"])])"
   ]
  },
  {
   "cell_type": "markdown",
   "id": "dda784de",
   "metadata": {},
   "source": [
    "Massage the masked dataset into a Huggingface compatible dataset and save to disk."
   ]
  },
  {
   "cell_type": "code",
   "execution_count": 15,
   "id": "703514e4",
   "metadata": {},
   "outputs": [
    {
     "data": {
      "application/vnd.jupyter.widget-view+json": {
       "model_id": "54d929358d4d408d97d38f3108c37de7",
       "version_major": 2,
       "version_minor": 0
      },
      "text/plain": [
       "Saving the dataset (0/3 shards):   0%|          | 0/177203 [00:00<?, ? examples/s]"
      ]
     },
     "metadata": {},
     "output_type": "display_data"
    }
   ],
   "source": [
    "masked_dataset = Dataset.from_dict({\n",
    "    \"input_ids\": masked_batch[\"input_ids\"].tolist(),\n",
    "    \"attention_mask\": masked_batch[\"attention_mask\"].tolist(),\n",
    "    \"labels\": masked_batch[\"labels\"].tolist()\n",
    "})\n",
    "os.makedirs(FINETUNE_DATASET_DIR, exist_ok=True)\n",
    "masked_dataset.save_to_disk(FINETUNE_DATASET_DIR)"
   ]
  },
  {
   "cell_type": "markdown",
   "id": "4179d335",
   "metadata": {},
   "source": [
    "## 4: LLM Training\n",
    "Let's load the dataset and split it into training (80%), validation (10%), and test (10%) sets."
   ]
  },
  {
   "cell_type": "code",
   "execution_count": 16,
   "id": "767bdc27",
   "metadata": {},
   "outputs": [
    {
     "name": "stdout",
     "output_type": "stream",
     "text": [
      "Loading dataset from finetune_ready_dataset...\n"
     ]
    }
   ],
   "source": [
    "NUM_EPOCHS = 3\n",
    "PER_DEVICE_BATCH_SIZE = 64 # may need to be adjusted based on your GPU memory, 64 fits nicely on an L40s\n",
    "LEARNING_RATE = 5e-5\n",
    "MLM_PROBABILITY = 0.20\n",
    "WARMUP_RATIO = 0.10\n",
    "\n",
    "print(f\"Loading dataset from {FINETUNE_DATASET_DIR}...\")\n",
    "dataset = load_from_disk(FINETUNE_DATASET_DIR)"
   ]
  },
  {
   "cell_type": "code",
   "execution_count": 17,
   "id": "ef277de7",
   "metadata": {},
   "outputs": [
    {
     "name": "stdout",
     "output_type": "stream",
     "text": [
      "Splitting dataset into train/validation/test...\n"
     ]
    }
   ],
   "source": [
    "print(\"Splitting dataset into train/validation/test...\")\n",
    "split_dataset = dataset.train_test_split(test_size=0.1, seed=1738)\n",
    "test_set = split_dataset[\"test\"]\n",
    "train_valid = split_dataset[\"train\"].train_test_split(test_size=0.1, seed=1738)\n",
    "train_set = train_valid[\"train\"]\n",
    "valid_set = train_valid[\"test\"]"
   ]
  },
  {
   "cell_type": "markdown",
   "id": "e0f2dd03",
   "metadata": {},
   "source": [
    "Now, we initialize some Huggingface transfomer objects to help with training."
   ]
  },
  {
   "cell_type": "code",
   "execution_count": 18,
   "id": "f032735c",
   "metadata": {},
   "outputs": [
    {
     "name": "stdout",
     "output_type": "stream",
     "text": [
      "Loading model and tokenizer: distilbert-base-uncased\n"
     ]
    }
   ],
   "source": [
    "print(f\"Loading model and tokenizer: {MODEL_NAME}\")\n",
    "tokenizer2 = DistilBertTokenizerFast.from_pretrained(MODEL_NAME)\n",
    "model = DistilBertForMaskedLM.from_pretrained(MODEL_NAME)"
   ]
  },
  {
   "cell_type": "code",
   "execution_count": 19,
   "id": "24465e94",
   "metadata": {},
   "outputs": [],
   "source": [
    "# this is not needed if you ran the masking code above\n",
    "data_collator = DataCollatorForLanguageModeling(\n",
    "    tokenizer=tokenizer2,\n",
    "    mlm=True,\n",
    "    mlm_probability=MLM_PROBABILITY\n",
    ")"
   ]
  },
  {
   "cell_type": "code",
   "execution_count": 20,
   "id": "0d4047d4",
   "metadata": {},
   "outputs": [],
   "source": [
    "# Do some basic math to calculate the weight warmup timings\n",
    "num_training_steps = len(train_set) // (PER_DEVICE_BATCH_SIZE * 2) * NUM_EPOCHS\n",
    "warmup_steps = int(num_training_steps * WARMUP_RATIO)\n",
    "# Warmup helps with avoiding divergence in the first few steps"
   ]
  },
  {
   "cell_type": "code",
   "execution_count": 21,
   "id": "2955c46d",
   "metadata": {},
   "outputs": [],
   "source": [
    "training_args = TrainingArguments(\n",
    "    output_dir=OUTPUT_MODEL_DIR,\n",
    "    logging_dir=\"./logs\",\n",
    "    per_device_train_batch_size=PER_DEVICE_BATCH_SIZE,\n",
    "    per_device_eval_batch_size=PER_DEVICE_BATCH_SIZE,\n",
    "    group_by_length=True,\n",
    "    learning_rate=LEARNING_RATE,\n",
    "    lr_scheduler_type=\"cosine\",\n",
    "    max_grad_norm=1.0,\n",
    "    weight_decay=0.001,\n",
    "    num_train_epochs=NUM_EPOCHS,\n",
    "    warmup_steps=warmup_steps,\n",
    "    save_steps=5000,\n",
    "    eval_steps=1000, # feel free to change this, but evaluating too often can slow down training due to memops\n",
    "    logging_steps=250,\n",
    "    save_total_limit=2,\n",
    "    eval_strategy=\"steps\", \n",
    "    logging_strategy=\"steps\",\n",
    "    # disable_tqdm=True, -> disabling progress bar makes it easier to read logging output if piping output to file\n",
    "    prediction_loss_only=False,\n",
    "    fp16=True,\n",
    "    dataloader_pin_memory=True,\n",
    "    dataloader_num_workers=4,\n",
    "    report_to=\"none\",\n",
    "    ddp_find_unused_parameters=False,\n",
    ")"
   ]
  },
  {
   "cell_type": "code",
   "execution_count": 22,
   "id": "b108a6e9",
   "metadata": {},
   "outputs": [
    {
     "name": "stderr",
     "output_type": "stream",
     "text": [
      "/tmp/ipykernel_587516/1793232961.py:1: FutureWarning: `tokenizer` is deprecated and will be removed in version 5.0.0 for `Trainer.__init__`. Use `processing_class` instead.\n",
      "  trainer = Trainer(\n"
     ]
    }
   ],
   "source": [
    "trainer = Trainer(\n",
    "    model=model,\n",
    "    args=training_args,\n",
    "    train_dataset=train_set,\n",
    "    eval_dataset=valid_set,\n",
    "    data_collator=data_collator,\n",
    "    tokenizer=tokenizer2\n",
    ")"
   ]
  },
  {
   "cell_type": "markdown",
   "id": "dcda4b59",
   "metadata": {},
   "source": [
    "Let's evaluate on the test set the base DistillBert model before any finetuning."
   ]
  },
  {
   "cell_type": "code",
   "execution_count": 23,
   "id": "d4071f9e",
   "metadata": {},
   "outputs": [
    {
     "name": "stderr",
     "output_type": "stream",
     "text": [
      "huggingface/tokenizers: The current process just got forked, after parallelism has already been used. Disabling parallelism to avoid deadlocks...\n",
      "To disable this warning, you can either:\n",
      "\t- Avoid using `tokenizers` before the fork if possible\n",
      "\t- Explicitly set the environment variable TOKENIZERS_PARALLELISM=(true | false)\n",
      "huggingface/tokenizers: The current process just got forked, after parallelism has already been used. Disabling parallelism to avoid deadlocks...\n",
      "To disable this warning, you can either:\n",
      "\t- Avoid using `tokenizers` before the fork if possible\n",
      "\t- Explicitly set the environment variable TOKENIZERS_PARALLELISM=(true | false)\n",
      "huggingface/tokenizers: The current process just got forked, after parallelism has already been used. Disabling parallelism to avoid deadlocks...\n",
      "To disable this warning, you can either:\n",
      "\t- Avoid using `tokenizers` before the fork if possible\n",
      "\t- Explicitly set the environment variable TOKENIZERS_PARALLELISM=(true | false)\n",
      "huggingface/tokenizers: The current process just got forked, after parallelism has already been used. Disabling parallelism to avoid deadlocks...\n",
      "To disable this warning, you can either:\n",
      "\t- Avoid using `tokenizers` before the fork if possible\n",
      "\t- Explicitly set the environment variable TOKENIZERS_PARALLELISM=(true | false)\n",
      "/home/spatel/finetuning/MCUBERT/.venv/lib/python3.12/site-packages/torch/nn/parallel/_functions.py:71: UserWarning: Was asked to gather along dimension 0, but all input tensors were scalars; will instead unsqueeze and return a vector.\n",
      "  warnings.warn(\n"
     ]
    },
    {
     "data": {
      "text/html": [
       "\n",
       "    <div>\n",
       "      \n",
       "      <progress value='264' max='139' style='width:300px; height:20px; vertical-align: middle;'></progress>\n",
       "      [139/139 14:40]\n",
       "    </div>\n",
       "    "
      ],
      "text/plain": [
       "<IPython.core.display.HTML object>"
      ]
     },
     "metadata": {},
     "output_type": "display_data"
    },
    {
     "name": "stdout",
     "output_type": "stream",
     "text": [
      "Initial test loss: 3.1265\n",
      "Initial test perplexity: 22.79\n"
     ]
    }
   ],
   "source": [
    "initial_test_results = trainer.evaluate(test_set)\n",
    "print(f\"Initial test loss: {initial_test_results['eval_loss']:.4f}\")\n",
    "print(f\"Initial test perplexity: {math.exp(initial_test_results['eval_loss']):.2f}\")"
   ]
  },
  {
   "cell_type": "markdown",
   "id": "4244b041",
   "metadata": {},
   "source": [
    "Now, we can train."
   ]
  },
  {
   "cell_type": "code",
   "execution_count": 24,
   "id": "973f2ce0",
   "metadata": {},
   "outputs": [
    {
     "name": "stderr",
     "output_type": "stream",
     "text": [
      "huggingface/tokenizers: The current process just got forked, after parallelism has already been used. Disabling parallelism to avoid deadlocks...\n",
      "To disable this warning, you can either:\n",
      "\t- Avoid using `tokenizers` before the fork if possible\n",
      "\t- Explicitly set the environment variable TOKENIZERS_PARALLELISM=(true | false)\n",
      "huggingface/tokenizers: The current process just got forked, after parallelism has already been used. Disabling parallelism to avoid deadlocks...\n",
      "To disable this warning, you can either:\n",
      "\t- Avoid using `tokenizers` before the fork if possible\n",
      "\t- Explicitly set the environment variable TOKENIZERS_PARALLELISM=(true | false)\n",
      "huggingface/tokenizers: The current process just got forked, after parallelism has already been used. Disabling parallelism to avoid deadlocks...\n",
      "To disable this warning, you can either:\n",
      "\t- Avoid using `tokenizers` before the fork if possible\n",
      "\t- Explicitly set the environment variable TOKENIZERS_PARALLELISM=(true | false)\n",
      "huggingface/tokenizers: The current process just got forked, after parallelism has already been used. Disabling parallelism to avoid deadlocks...\n",
      "To disable this warning, you can either:\n",
      "\t- Avoid using `tokenizers` before the fork if possible\n",
      "\t- Explicitly set the environment variable TOKENIZERS_PARALLELISM=(true | false)\n"
     ]
    },
    {
     "data": {
      "text/html": [
       "\n",
       "    <div>\n",
       "      \n",
       "      <progress value='3366' max='3366' style='width:300px; height:20px; vertical-align: middle;'></progress>\n",
       "      [3366/3366 42:18, Epoch 3/3]\n",
       "    </div>\n",
       "    <table border=\"1\" class=\"dataframe\">\n",
       "  <thead>\n",
       " <tr style=\"text-align: left;\">\n",
       "      <th>Step</th>\n",
       "      <th>Training Loss</th>\n",
       "      <th>Validation Loss</th>\n",
       "    </tr>\n",
       "  </thead>\n",
       "  <tbody>\n",
       "    <tr>\n",
       "      <td>1000</td>\n",
       "      <td>1.137200</td>\n",
       "      <td>1.033390</td>\n",
       "    </tr>\n",
       "    <tr>\n",
       "      <td>2000</td>\n",
       "      <td>0.953700</td>\n",
       "      <td>0.888316</td>\n",
       "    </tr>\n",
       "    <tr>\n",
       "      <td>3000</td>\n",
       "      <td>0.897000</td>\n",
       "      <td>0.849205</td>\n",
       "    </tr>\n",
       "  </tbody>\n",
       "</table><p>"
      ],
      "text/plain": [
       "<IPython.core.display.HTML object>"
      ]
     },
     "metadata": {},
     "output_type": "display_data"
    },
    {
     "name": "stderr",
     "output_type": "stream",
     "text": [
      "huggingface/tokenizers: The current process just got forked, after parallelism has already been used. Disabling parallelism to avoid deadlocks...\n",
      "To disable this warning, you can either:\n",
      "\t- Avoid using `tokenizers` before the fork if possible\n",
      "\t- Explicitly set the environment variable TOKENIZERS_PARALLELISM=(true | false)\n",
      "huggingface/tokenizers: The current process just got forked, after parallelism has already been used. Disabling parallelism to avoid deadlocks...\n",
      "To disable this warning, you can either:\n",
      "\t- Avoid using `tokenizers` before the fork if possible\n",
      "\t- Explicitly set the environment variable TOKENIZERS_PARALLELISM=(true | false)\n",
      "huggingface/tokenizers: The current process just got forked, after parallelism has already been used. Disabling parallelism to avoid deadlocks...\n",
      "To disable this warning, you can either:\n",
      "\t- Avoid using `tokenizers` before the fork if possible\n",
      "\t- Explicitly set the environment variable TOKENIZERS_PARALLELISM=(true | false)\n",
      "huggingface/tokenizers: The current process just got forked, after parallelism has already been used. Disabling parallelism to avoid deadlocks...\n",
      "To disable this warning, you can either:\n",
      "\t- Avoid using `tokenizers` before the fork if possible\n",
      "\t- Explicitly set the environment variable TOKENIZERS_PARALLELISM=(true | false)\n",
      "huggingface/tokenizers: The current process just got forked, after parallelism has already been used. Disabling parallelism to avoid deadlocks...\n",
      "To disable this warning, you can either:\n",
      "\t- Avoid using `tokenizers` before the fork if possible\n",
      "\t- Explicitly set the environment variable TOKENIZERS_PARALLELISM=(true | false)\n",
      "huggingface/tokenizers: The current process just got forked, after parallelism has already been used. Disabling parallelism to avoid deadlocks...\n",
      "To disable this warning, you can either:\n",
      "\t- Avoid using `tokenizers` before the fork if possible\n",
      "\t- Explicitly set the environment variable TOKENIZERS_PARALLELISM=(true | false)\n",
      "huggingface/tokenizers: The current process just got forked, after parallelism has already been used. Disabling parallelism to avoid deadlocks...\n",
      "To disable this warning, you can either:\n",
      "\t- Avoid using `tokenizers` before the fork if possible\n",
      "\t- Explicitly set the environment variable TOKENIZERS_PARALLELISM=(true | false)\n",
      "huggingface/tokenizers: The current process just got forked, after parallelism has already been used. Disabling parallelism to avoid deadlocks...\n",
      "To disable this warning, you can either:\n",
      "\t- Avoid using `tokenizers` before the fork if possible\n",
      "\t- Explicitly set the environment variable TOKENIZERS_PARALLELISM=(true | false)\n",
      "huggingface/tokenizers: The current process just got forked, after parallelism has already been used. Disabling parallelism to avoid deadlocks...\n",
      "To disable this warning, you can either:\n",
      "\t- Avoid using `tokenizers` before the fork if possible\n",
      "\t- Explicitly set the environment variable TOKENIZERS_PARALLELISM=(true | false)\n",
      "huggingface/tokenizers: The current process just got forked, after parallelism has already been used. Disabling parallelism to avoid deadlocks...\n",
      "To disable this warning, you can either:\n",
      "\t- Avoid using `tokenizers` before the fork if possible\n",
      "\t- Explicitly set the environment variable TOKENIZERS_PARALLELISM=(true | false)\n",
      "huggingface/tokenizers: The current process just got forked, after parallelism has already been used. Disabling parallelism to avoid deadlocks...\n",
      "To disable this warning, you can either:\n",
      "\t- Avoid using `tokenizers` before the fork if possible\n",
      "\t- Explicitly set the environment variable TOKENIZERS_PARALLELISM=(true | false)\n",
      "huggingface/tokenizers: The current process just got forked, after parallelism has already been used. Disabling parallelism to avoid deadlocks...\n",
      "To disable this warning, you can either:\n",
      "\t- Avoid using `tokenizers` before the fork if possible\n",
      "\t- Explicitly set the environment variable TOKENIZERS_PARALLELISM=(true | false)\n",
      "huggingface/tokenizers: The current process just got forked, after parallelism has already been used. Disabling parallelism to avoid deadlocks...\n",
      "To disable this warning, you can either:\n",
      "\t- Avoid using `tokenizers` before the fork if possible\n",
      "\t- Explicitly set the environment variable TOKENIZERS_PARALLELISM=(true | false)\n",
      "huggingface/tokenizers: The current process just got forked, after parallelism has already been used. Disabling parallelism to avoid deadlocks...\n",
      "To disable this warning, you can either:\n",
      "\t- Avoid using `tokenizers` before the fork if possible\n",
      "\t- Explicitly set the environment variable TOKENIZERS_PARALLELISM=(true | false)\n",
      "huggingface/tokenizers: The current process just got forked, after parallelism has already been used. Disabling parallelism to avoid deadlocks...\n",
      "To disable this warning, you can either:\n",
      "\t- Avoid using `tokenizers` before the fork if possible\n",
      "\t- Explicitly set the environment variable TOKENIZERS_PARALLELISM=(true | false)\n",
      "huggingface/tokenizers: The current process just got forked, after parallelism has already been used. Disabling parallelism to avoid deadlocks...\n",
      "To disable this warning, you can either:\n",
      "\t- Avoid using `tokenizers` before the fork if possible\n",
      "\t- Explicitly set the environment variable TOKENIZERS_PARALLELISM=(true | false)\n",
      "huggingface/tokenizers: The current process just got forked, after parallelism has already been used. Disabling parallelism to avoid deadlocks...\n",
      "To disable this warning, you can either:\n",
      "\t- Avoid using `tokenizers` before the fork if possible\n",
      "\t- Explicitly set the environment variable TOKENIZERS_PARALLELISM=(true | false)\n",
      "huggingface/tokenizers: The current process just got forked, after parallelism has already been used. Disabling parallelism to avoid deadlocks...\n",
      "To disable this warning, you can either:\n",
      "\t- Avoid using `tokenizers` before the fork if possible\n",
      "\t- Explicitly set the environment variable TOKENIZERS_PARALLELISM=(true | false)\n",
      "huggingface/tokenizers: The current process just got forked, after parallelism has already been used. Disabling parallelism to avoid deadlocks...\n",
      "To disable this warning, you can either:\n",
      "\t- Avoid using `tokenizers` before the fork if possible\n",
      "\t- Explicitly set the environment variable TOKENIZERS_PARALLELISM=(true | false)\n",
      "huggingface/tokenizers: The current process just got forked, after parallelism has already been used. Disabling parallelism to avoid deadlocks...\n",
      "To disable this warning, you can either:\n",
      "\t- Avoid using `tokenizers` before the fork if possible\n",
      "\t- Explicitly set the environment variable TOKENIZERS_PARALLELISM=(true | false)\n",
      "=(true | false)\n"
     ]
    },
    {
     "data": {
      "text/plain": [
       "TrainOutput(global_step=3366, training_loss=1.1028730989706637, metrics={'train_runtime': 2539.9928, 'train_samples_per_second': 169.528, 'train_steps_per_second': 1.325, 'total_flos': 5.70807012537815e+16, 'train_loss': 1.1028730989706637, 'epoch': 3.0})"
      ]
     },
     "execution_count": 24,
     "metadata": {},
     "output_type": "execute_result"
    }
   ],
   "source": [
    "trainer.train()"
   ]
  },
  {
   "cell_type": "markdown",
   "id": "a18d328a",
   "metadata": {},
   "source": [
    "We can demonstrate improvement on the test set by evaluating the finetuned model."
   ]
  },
  {
   "cell_type": "code",
   "execution_count": 25,
   "id": "15f5b2c1",
   "metadata": {},
   "outputs": [
    {
     "name": "stderr",
     "output_type": "stream",
     "text": [
      "huggingface/tokenizers: The current process just got forked, after parallelism has already been used. Disabling parallelism to avoid deadlocks...\n",
      "To disable this warning, you can either:\n",
      "\t- Avoid using `tokenizers` before the fork if possible\n",
      "\t- Explicitly set the environment variable TOKENIZERS_PARALLELISM=(true | false)\n",
      "huggingface/tokenizers: The current process just got forked, after parallelism has already been used. Disabling parallelism to avoid deadlocks...\n",
      "To disable this warning, you can either:\n",
      "\t- Avoid using `tokenizers` before the fork if possible\n",
      "\t- Explicitly set the environment variable TOKENIZERS_PARALLELISM=(true | false)\n",
      "huggingface/tokenizers: The current process just got forked, after parallelism has already been used. Disabling parallelism to avoid deadlocks...\n",
      "To disable this warning, you can either:\n",
      "\t- Avoid using `tokenizers` before the fork if possible\n",
      "\t- Explicitly set the environment variable TOKENIZERS_PARALLELISM=(true | false)\n",
      "huggingface/tokenizers: The current process just got forked, after parallelism has already been used. Disabling parallelism to avoid deadlocks...\n",
      "To disable this warning, you can either:\n",
      "\t- Avoid using `tokenizers` before the fork if possible\n",
      "\t- Explicitly set the environment variable TOKENIZERS_PARALLELISM=(true | false)\n",
      "/home/spatel/finetuning/MCUBERT/.venv/lib/python3.12/site-packages/torch/nn/parallel/_functions.py:71: UserWarning: Was asked to gather along dimension 0, but all input tensors were scalars; will instead unsqueeze and return a vector.\n",
      "  warnings.warn(\n"
     ]
    },
    {
     "data": {
      "text/html": [
       "\n",
       "    <div>\n",
       "      \n",
       "      <progress value='139' max='139' style='width:300px; height:20px; vertical-align: middle;'></progress>\n",
       "      [139/139 00:53]\n",
       "    </div>\n",
       "    "
      ],
      "text/plain": [
       "<IPython.core.display.HTML object>"
      ]
     },
     "metadata": {},
     "output_type": "display_data"
    },
    {
     "name": "stdout",
     "output_type": "stream",
     "text": [
      "Final test loss: 0.8531\n",
      "Final test perplexity: 2.35\n"
     ]
    }
   ],
   "source": [
    "final_test_results = trainer.evaluate(test_set)\n",
    "print(f\"Final test loss: {final_test_results['eval_loss']:.4f}\")\n",
    "print(f\"Final test perplexity: {math.exp(final_test_results['eval_loss']):.2f}\")"
   ]
  },
  {
   "cell_type": "markdown",
   "id": "f250354b",
   "metadata": {},
   "source": [
    "We can save the model to disk."
   ]
  },
  {
   "cell_type": "code",
   "execution_count": null,
   "id": "8f2b66c9",
   "metadata": {},
   "outputs": [],
   "source": [
    "trainer.save_model(OUTPUT_MODEL_DIR)\n",
    "tokenizer.save_pretrained(OUTPUT_MODEL_DIR)"
   ]
  },
  {
   "cell_type": "markdown",
   "id": "3d32c193",
   "metadata": {},
   "source": [
    "## 5: Creating some visualizations.\n",
    "Let's start by visualizing the losses (derived from perplexity) over time"
   ]
  },
  {
   "cell_type": "code",
   "execution_count": 27,
   "id": "a03282ff",
   "metadata": {},
   "outputs": [],
   "source": [
    "# Here are some logs from our training runs, but they can be replaces manually with your own\n",
    "logs = [\n",
    "    {'loss': 2.0593, 'grad_norm': 139336.03125, 'learning_rate': 3.705357142857143e-05, 'epoch': 0.22281639928698752}, \n",
    "    {'loss': 1.4341, 'grad_norm': 110858.5390625, 'learning_rate': 4.964382308480099e-05, 'epoch': 0.44563279857397503}, \n",
    "    {'loss': 1.2431, 'grad_norm': 108950.2421875, 'learning_rate': 4.774275727268255e-05, 'epoch': 0.6684491978609626}, \n",
    "    {'loss': 1.1395, 'grad_norm': 110304.96875, 'learning_rate': 4.4322177730535374e-05, 'epoch': 0.8912655971479501}, \n",
    "    {'eval_loss': 1.0290089845657349, 'eval_runtime': 48.5084, 'eval_samples_per_second': 328.788, 'eval_steps_per_second': 2.577, 'epoch': 0.8912655971479501}, \n",
    "    {'loss': 1.0617, 'grad_norm': 102315.7890625, 'learning_rate': 3.9610623923325374e-05, 'epoch': 1.1140819964349375}, \n",
    "    {'loss': 1.0185, 'grad_norm': 91181.7109375, 'learning_rate': 3.3922889286781825e-05, 'epoch': 1.3368983957219251}, \n",
    "    {'loss': 0.9772, 'grad_norm': 96726.6171875, 'learning_rate': 2.7638988907438168e-05, 'epoch': 1.5597147950089125}, \n",
    "    {'loss': 0.955, 'grad_norm': 86583.3203125, 'learning_rate': 2.1178769543102204e-05, 'epoch': 1.7825311942959001}, \n",
    "    {'eval_loss': 0.8887742161750793, 'eval_runtime': 48.4652, 'eval_samples_per_second': 329.082, 'eval_steps_per_second': 2.579, 'epoch': 1.7825311942959001}, \n",
    "    {'loss': 0.9353, 'grad_norm': 91750.0078125, 'learning_rate': 1.4973858366566079e-05, 'epoch': 2.0053475935828877}, \n",
    "    {'loss': 0.9116, 'grad_norm': 93331.09375, 'learning_rate': 9.438824623471798e-06, 'epoch': 2.228163992869875}, \n",
    "    {'loss': 0.9049, 'grad_norm': 98651.625, 'learning_rate': 4.943480982879786e-06, 'epoch': 2.450980392156863}, \n",
    "    {'loss': 0.8984, 'grad_norm': 88566.15625, 'learning_rate': 1.7881752127047735e-06, 'epoch': 2.6737967914438503}, \n",
    "    {'eval_loss': 0.8425655364990234, 'eval_runtime': 48.1855, 'eval_samples_per_second': 330.992, 'eval_steps_per_second': 2.594, 'epoch': 2.6737967914438503}, \n",
    "    {'loss': 0.9069, 'grad_norm': 91749.6484375, 'learning_rate': 1.83723019359755e-07, 'epoch': 2.8966131907308377}\n",
    "]\n",
    "\n",
    "test_losses = [\n",
    "    {'eval_loss': 3.132037401199341, 'eval_runtime': 53.0616, 'eval_samples_per_second': 333.97, 'eval_steps_per_second': 2.62, 'epoch': 0.0},\n",
    "    {'eval_loss': 0.8539559245109558, 'eval_runtime': 53.4505, 'eval_samples_per_second': 331.541, 'eval_steps_per_second': 2.601, 'epoch': 3.0}\n",
    "]"
   ]
  },
  {
   "cell_type": "markdown",
   "id": "1e1b9dd8",
   "metadata": {},
   "source": [
    "Parse the logs to get the loss and epoch number"
   ]
  },
  {
   "cell_type": "code",
   "execution_count": 28,
   "id": "5ba40b3e",
   "metadata": {},
   "outputs": [],
   "source": [
    "train_epochs, train_losses = [], []\n",
    "val_epochs, val_losses = [], []\n",
    "for entry in logs:\n",
    "    if 'eval_loss' in entry and 'epoch' in entry:\n",
    "        val_epochs.append(entry['epoch'])\n",
    "        val_losses.append(entry['eval_loss'])\n",
    "    elif 'loss' in entry:\n",
    "        train_epochs.append(entry['epoch'])\n",
    "        train_losses.append(entry['loss'])\n",
    "test_epochs = [t['epoch'] for t in test_losses]\n",
    "test_vals = [t['eval_loss'] for t in test_losses]"
   ]
  },
  {
   "cell_type": "markdown",
   "id": "43699cba",
   "metadata": {},
   "source": [
    "We can now make visualizations."
   ]
  },
  {
   "cell_type": "code",
   "execution_count": 29,
   "id": "2d70d90d",
   "metadata": {},
   "outputs": [
    {
     "data": {
      "image/png": "[encoded data removed]",
      "text/plain": [
       "<Figure size 1000x500 with 1 Axes>"
      ]
     },
     "metadata": {},
     "output_type": "display_data"
    }
   ],
   "source": [
    "plt.figure(figsize=(10, 5))\n",
    "plt.plot(train_epochs, train_losses, marker='o', color='cornflowerblue', linewidth=2, label='Training Loss')\n",
    "plt.plot(val_epochs, val_losses, marker='o', color='mediumpurple', linewidth=2, label='Validation Loss')\n",
    "plt.scatter(test_epochs, test_vals, marker='+', s=200, color='coral', label='Test Loss')\n",
    "plt.xlim(-0.1, 3.5)\n",
    "plt.ylim(0, 3.5)\n",
    "plt.grid(True, linestyle='--', alpha=0.7)\n",
    "plt.xlabel('Epoch', fontsize=12)\n",
    "plt.ylabel('Loss', fontsize=12)\n",
    "plt.title('Training vs Validation vs Test Loss Over Epochs', fontsize=14)\n",
    "plt.legend(loc='upper right', fontsize=12)\n",
    "\n",
    "# optionally save the plot\n",
    "plt.savefig('loss_plot.png', dpi=300, bbox_inches='tight')"
   ]
  },
  {
   "cell_type": "markdown",
   "id": "1aa6da5b",
   "metadata": {},
   "source": [
    "Now, let's visualize the distribution of embedding similarity. This gives us a general indication of the model is picking up in the differences between texts in the same niche.\n",
    "\n",
    "*Note:* If you cancelled training part way through, CUDA allocated memory will not be freed correctly, so you may need to restart the notebook to run from disk."
   ]
  },
  {
   "cell_type": "code",
   "execution_count": null,
   "id": "a78b80eb",
   "metadata": {},
   "outputs": [],
   "source": [
    "SAMPLE_SIZE = 1000\n",
    "DEVICE = torch.device(\"cuda\" if torch.cuda.is_available() else \"cpu\")\n",
    "dataset = load_from_disk(FINETUNE_DATASET_DIR)\n",
    "batch = dataset[:SAMPLE_SIZE]\n",
    "input_ids = batch[\"input_ids\"]\n",
    "attention_mask = batch[\"attention_mask\"] "
   ]
  },
  {
   "cell_type": "code",
   "execution_count": 44,
   "id": "aa076885",
   "metadata": {},
   "outputs": [],
   "source": [
    "base_model = DistilBertModel.from_pretrained(MODEL_NAME).to(DEVICE).eval()\n",
    "fine_tuned_model = DistilBertModel.from_pretrained(OUTPUT_MODEL_DIR).to(DEVICE).eval()"
   ]
  },
  {
   "cell_type": "code",
   "execution_count": 45,
   "id": "e4139375",
   "metadata": {},
   "outputs": [],
   "source": [
    "@torch.no_grad() # save computation time by skipping gradient/backprop calculations\n",
    "def get_embeddings_from_tokens(input_ids, attention_mask, model):\n",
    "    # convert to tensors\n",
    "    ids_tensor  = torch.tensor(input_ids, device=DEVICE)\n",
    "    mask_tensor = torch.tensor(attention_mask, device=DEVICE)\n",
    "    outputs = model(input_ids=ids_tensor, attention_mask=mask_tensor)\n",
    "    # take the [CLS] token embedding\n",
    "    return outputs.last_hidden_state[:, 0, :].cpu().numpy()"
   ]
  },
  {
   "cell_type": "markdown",
   "id": "efe8935d",
   "metadata": {},
   "source": [
    "We use the helper functions to calculate the similarity between the embeddings for each text and those of all other texts using both models. "
   ]
  },
  {
   "cell_type": "code",
   "execution_count": 46,
   "id": "35e3dcb6",
   "metadata": {},
   "outputs": [],
   "source": [
    "base_embeds = get_embeddings_from_tokens(input_ids, attention_mask, base_model)\n",
    "fine_embeds = get_embeddings_from_tokens(input_ids, attention_mask, fine_tuned_model)\n",
    "\n",
    "cos_sim_base = cosine_similarity(base_embeds)\n",
    "cos_sim_fine = cosine_similarity(fine_embeds)\n",
    "\n",
    "# cosine similarity is symmetric, so we only need the upper triangle, also exclude the diagonal\n",
    "utri_idx   = np.triu_indices_from(cos_sim_base, k=1)\n",
    "base_vals  = cos_sim_base[utri_idx]\n",
    "fine_vals  = cos_sim_fine[utri_idx]"
   ]
  },
  {
   "cell_type": "markdown",
   "id": "1dd1824a",
   "metadata": {},
   "source": [
    "Visualize."
   ]
  },
  {
   "cell_type": "code",
   "execution_count": 47,
   "id": "7dee2ef7",
   "metadata": {},
   "outputs": [
    {
     "data": {
      "image/png": "[encoded data removed]",
      "text/plain": [
       "<Figure size 1000x500 with 1 Axes>"
      ]
     },
     "metadata": {},
     "output_type": "display_data"
    }
   ],
   "source": [
    "plt.figure(figsize=(10, 5))\n",
    "sns.histplot(base_vals, label=\"Base Model\", kde=True, stat=\"density\", alpha=0.5)\n",
    "sns.histplot(fine_vals, label=\"Fine‑Tuned Model\", kde=True, stat=\"density\", alpha=0.5)\n",
    "plt.title(\"Cosine Similarity Distribution (1000 samples)\")\n",
    "plt.xlabel(\"Cosine similarity\")\n",
    "plt.ylabel(\"Density\")\n",
    "plt.legend()\n",
    "plt.grid(True)\n",
    "plt.tight_layout()\n",
    "\n",
    "# optionally save the plot\n",
    "plt.savefig(\"cosine_similarity_histogram.png\")"
   ]
  },
  {
   "cell_type": "markdown",
   "id": "c6df6d65",
   "metadata": {},
   "source": [
    "We can visualize the embeddings using UMAP to see if the finetuned model is better at mapping domain specific textual similarity from the raw text to the embeddings space. We should see the finetuned model have more diverse and locally clustered embeddings compared to the base model."
   ]
  },
  {
   "cell_type": "code",
   "execution_count": 48,
   "id": "76b41aae",
   "metadata": {},
   "outputs": [
    {
     "name": "stderr",
     "output_type": "stream",
     "text": [
      "/home/spatel/finetuning/MCUBERT/.venv/lib/python3.12/site-packages/sklearn/utils/deprecation.py:151: FutureWarning: 'force_all_finite' was renamed to 'ensure_all_finite' in 1.6 and will be removed in 1.8.\n",
      "  warnings.warn(\n"
     ]
    }
   ],
   "source": [
    "reducer   = umap.UMAP(n_neighbors=8, min_dist=0.1, metric=\"cosine\")\n",
    "all_embeds = np.vstack([base_embeds, fine_embeds]) # faster\n",
    "umap_proj  = reducer.fit_transform(all_embeds)\n",
    "\n",
    "umap_base = umap_proj[:SAMPLE_SIZE]\n",
    "umap_fine = umap_proj[SAMPLE_SIZE:]"
   ]
  },
  {
   "cell_type": "code",
   "execution_count": 49,
   "id": "d8c011d1",
   "metadata": {},
   "outputs": [
    {
     "data": {
      "image/png": "[encoded data removed]",
      "text/plain": [
       "<Figure size 800x800 with 1 Axes>"
      ]
     },
     "metadata": {},
     "output_type": "display_data"
    }
   ],
   "source": [
    "plt.figure(figsize=(8, 8))\n",
    "plt.scatter(umap_base[:, 0], umap_base[:, 1], alpha=0.5, label=\"Base\", s=10)\n",
    "plt.scatter(umap_fine[:, 0], umap_fine[:, 1], alpha=0.5, label=\"Fine‑tuned\", s=10)\n",
    "plt.title(\"UMAP Projection of Embeddings\")\n",
    "plt.legend()\n",
    "plt.grid(True)\n",
    "plt.tight_layout()\n",
    "plt.savefig(\"umap_projection.png\")"
   ]
  },
  {
   "cell_type": "markdown",
   "id": "8b8f18df",
   "metadata": {},
   "source": []
  }
 ],
 "metadata": {
  "kernelspec": {
   "display_name": ".venv",
   "language": "python",
   "name": "python3"
  },
  "language_info": {
   "codemirror_mode": {
    "name": "ipython",
    "version": 3
   },
   "file_extension": ".py",
   "mimetype": "text/x-python",
   "name": "python",
   "nbconvert_exporter": "python",
   "pygments_lexer": "ipython3",
   "version": "3.12.3"
  }
 },
 "nbformat": 4,
 "nbformat_minor": 5
}
